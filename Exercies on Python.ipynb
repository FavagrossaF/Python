{
  "nbformat": 4,
  "nbformat_minor": 0,
  "metadata": {
    "colab": {
      "provenance": []
    },
    "kernelspec": {
      "name": "python3",
      "display_name": "Python 3"
    },
    "language_info": {
      "name": "python"
    }
  },
  "cells": [
    {
      "cell_type": "markdown",
      "source": [
        "##1. Strings\n",
        "\n",
        "Strings in Python are the way we work with text. Words, sentences, paragraphs, and\n",
        "even entire files are read into and manipulated via strings. Because so much of our\n",
        "work revolves around text, it’s no surprise that strings are one of the most common\n",
        "data types.\n",
        "You should remember two important things about Python strings: (1) they’re\n",
        "immutable, and (2) in Python 3, they contain Unicode characters, encoded in\n",
        "UTF-8.\n",
        "There’s no such thing as a “character” type in Python. We can talk about a “onecharacter\n",
        "string,” but that just means a string whose length is 1.\n",
        "Python’s strings are interesting and useful, not only because they allow us to\n",
        "work with text, but also because they’re a Python sequence. This means that we can\n",
        "iterate over them (character by character), retrieve their elements via numeric\n",
        "indexes, and search in them with the in operator"
      ],
      "metadata": {
        "id": "HJL9yFs291DE"
      }
    },
    {
      "cell_type": "markdown",
      "source": [
        "### Exercise\n",
        "\n",
        "For this exercise, write a Python function (call it `stringManipulation`) that takes a string as input,\n",
        "assumed to be an English word. You may assume that the word contains no capital letters or punctuation.\n",
        "The function should return the the manipulated string as follows:\n",
        "* If the word begins with a vowel (a, e, i, o, or u), add “**way**” to the end of the\n",
        "word. So “air” becomes “airway” and “eat” becomes “eatway.”\n",
        "* If the word begins with any other letter, then we take the first letter, put it on\n",
        "the end of the word, and then add “**ay**.” Thus, “python” becomes “ythonpay”\n",
        "and “computer” becomes “omputercay.”"
      ],
      "metadata": {
        "id": "BOGdQAYj-nrJ"
      }
    },
    {
      "cell_type": "markdown",
      "source": [
        "**Hints:**:\n",
        "1. remember strings are sequence hence you can access any element within the string by slicing.\n",
        "2. It might help you to use the `in` operator when examining a sequence. More details here: https://www.w3schools.com/python/ref_keyword_in.asp"
      ],
      "metadata": {
        "id": "CeD6gFdPADUb"
      }
    },
    {
      "cell_type": "code",
      "execution_count": null,
      "metadata": {
        "id": "0JIO9U7W9sqW"
      },
      "outputs": [],
      "source": [
        "def stringManipulation(word):\n",
        "  if word[0] in 'aeiou':\n",
        "    return word+\"air\"\n",
        "  else:\n",
        "    return word[1:]+word[0]+'ay'\n",
        "  pass\n"
      ]
    },
    {
      "cell_type": "code",
      "source": [
        "stringManipulation('isaiaThomas')"
      ],
      "metadata": {
        "id": "yn2_ZoOVgIXk",
        "outputId": "3e1d3e3a-5f50-4882-ab3b-f862672a4bde",
        "colab": {
          "base_uri": "https://localhost:8080/",
          "height": 36
        }
      },
      "execution_count": null,
      "outputs": [
        {
          "output_type": "execute_result",
          "data": {
            "text/plain": [
              "'isaiaThomasair'"
            ],
            "application/vnd.google.colaboratory.intrinsic+json": {
              "type": "string"
            }
          },
          "metadata": {},
          "execution_count": 4
        }
      ]
    },
    {
      "cell_type": "code",
      "source": [
        "stringManipulation('Jordan')"
      ],
      "metadata": {
        "id": "snYZTN4nhhc4",
        "outputId": "4ee6bdd1-8739-4474-b08e-28a6c33a12fc",
        "colab": {
          "base_uri": "https://localhost:8080/",
          "height": 36
        }
      },
      "execution_count": null,
      "outputs": [
        {
          "output_type": "execute_result",
          "data": {
            "text/plain": [
              "'ordanJay'"
            ],
            "application/vnd.google.colaboratory.intrinsic+json": {
              "type": "string"
            }
          },
          "metadata": {},
          "execution_count": 5
        }
      ]
    },
    {
      "cell_type": "markdown",
      "source": [
        "## 2. Dictionary\n",
        "Dictionaries (http://mng.bz/5aAz), or dicts, are one of Python’s most powerful and\n",
        "important data structures.\n",
        "In a dict, we don’t enter individual elements, as in a list or tuple. Rather, we\n",
        "enter pairs of data, with the first item known as the **key** and the second item known\n",
        "as the **value**. Whereas the index in a string, list, or tuple is always an integer, and\n",
        "always starts with 0, dict keys can come from a wide variety of Python types—typically\n",
        "integers or strings."
      ],
      "metadata": {
        "id": "9AwNQyIKD40Y"
      }
    },
    {
      "cell_type": "markdown",
      "source": [
        "###Exercise\n",
        "In this exercise you will simulate 1,000 rolls of two dice.\n",
        "\n",
        "Begin by writing a function\n",
        "that simulates rolling a pair of six-sided dice and call it `twoDice()`. Your function will not take any\n",
        "parameters. It will return the total that was rolled on two dice as its only result.\n",
        "\n",
        "Then use the function above inside another function (call it `diceFrequency`) which uses your `twoDice` function to simulate rolling two six-sided\n",
        "dice 1,000 times. As your program runs, it should count the number of times that\n",
        "each total occurs. Then it should display a table that summarizes this data expressed as a dictionary:\n",
        "\n",
        "*   The dictionary key will be each of the possible outcome of rolling two dice (2,3,4,...,12)\n",
        "*   The dictionary value for each key instead shows the frequency for each combination as a percentage of the number of rolls performed.\n",
        "\n",
        "An example run yield the following:\n",
        "\n",
        "| Dice Roll | Count |\n",
        "|-----------|-------|\n",
        "| 2         | 2.90  |\n",
        "| 3         | 6.90  |\n",
        "| 4         | 9.40  |\n",
        "| 5         | 11.90 |\n",
        "| 6         | 14.20 |\n",
        "| 7         | 14.20 |\n",
        "| 8         | 15.00 |\n",
        "| 9         | 10.50 |\n",
        "| 10        | 7.90  |\n",
        "| 11        | 4.50  |\n",
        "| 12        | 2.60  |"
      ],
      "metadata": {
        "id": "cEhz786oEOQc"
      }
    },
    {
      "cell_type": "markdown",
      "source": [
        "**Hints**\n",
        "\n",
        "\n",
        "1.   The count dictionary is initialized so that it has `keys` 2, 3, 4, 5, 6, 7, 8, 9, 10, 11 and 12.  In the counts dictionary, each `value` is initialized to 0.\n",
        "The values in counts are increased as the simulation runs.\n",
        "2.   To randomly choose an integer withing a range check the function randint: https://www.w3schools.com/python/ref_random_randint.asp\n",
        "3. when you output the final result by printing the dictionary keys and values, it is convenient to sort the keys in ascending order by using the function `sorted`: https://www.w3schools.com/python/ref_func_sorted.asp\n",
        "\n"
      ],
      "metadata": {
        "id": "-d_e5tN_Htom"
      }
    },
    {
      "cell_type": "code",
      "source": [
        "## Simulate rolling two six-sided dice and return the total from rolling two simulated dice\n",
        "import random\n",
        "import matplotlib.pyplot as plt\n",
        "def twoDice():\n",
        "  return random.randint(1,6) + random.randint(1,6)\n",
        "  pass\n",
        "\n",
        "# Simulate 1,000 rolls and display the result\n",
        "def diceFrequency(n):\n",
        "\n",
        "    frequency_table = {key: 0 for key in range(2, 13)}\n",
        "\n",
        "    for i in range(n):\n",
        "      sum =twoDice()\n",
        "      frequency_table[sum] += 1\n",
        "\n",
        "    percentage= {}\n",
        "    for key, frequency in frequency_table.items():\n",
        "        percentage[key]= (frequency / n) * 100\n",
        "\n",
        "    for key, perc in percentage.items():\n",
        "        print(f\"{key}: {perc:.2f}\")\n",
        "\n",
        "    plt.bar(percentage.keys(), percentage.values())\n",
        "    plt.show\n",
        "    return percentage\n",
        "    pass"
      ],
      "metadata": {
        "id": "73DStquY_d24"
      },
      "execution_count": null,
      "outputs": []
    },
    {
      "cell_type": "code",
      "source": [
        "diceFrequency(1000)"
      ],
      "metadata": {
        "id": "DaK9iwfhikQb",
        "outputId": "f424f971-2293-481d-caae-671a78ce0be1",
        "colab": {
          "base_uri": "https://localhost:8080/",
          "height": 812
        }
      },
      "execution_count": null,
      "outputs": [
        {
          "output_type": "stream",
          "name": "stdout",
          "text": [
            "2: 2.30\n",
            "3: 6.20\n",
            "4: 7.10\n",
            "5: 12.90\n",
            "6: 14.50\n",
            "7: 17.90\n",
            "8: 12.90\n",
            "9: 10.10\n",
            "10: 9.00\n",
            "11: 4.70\n",
            "12: 2.40\n"
          ]
        },
        {
          "output_type": "execute_result",
          "data": {
            "text/plain": [
              "{2: 2.3,\n",
              " 3: 6.2,\n",
              " 4: 7.1,\n",
              " 5: 12.9,\n",
              " 6: 14.499999999999998,\n",
              " 7: 17.9,\n",
              " 8: 12.9,\n",
              " 9: 10.100000000000001,\n",
              " 10: 9.0,\n",
              " 11: 4.7,\n",
              " 12: 2.4}"
            ]
          },
          "metadata": {},
          "execution_count": 7
        },
        {
          "output_type": "display_data",
          "data": {
            "text/plain": [
              "<Figure size 640x480 with 1 Axes>"
            ],
            "image/png": "[encoded data removed]"
          },
          "metadata": {}
        }
      ]
    },
    {
      "cell_type": "markdown",
      "source": [
        "## Classes\n",
        "Here you will test your knowledge of object oriented programming procedures in Python."
      ],
      "metadata": {
        "id": "Vy6osmX_Mj0i"
      }
    },
    {
      "cell_type": "markdown",
      "source": [
        "### Exercise\n",
        "####Part 1\n",
        "The aim of this exercise is to create a new class called `Account`.\n",
        "1. Define a new class to represent a type of bank account.\n",
        "2. When the class is instantiated you should provide:\n",
        "    * the account number,\n",
        "    * the name of the account holder,\n",
        "    * an opening balance and\n",
        "    *  the type of account (which can be\n",
        "a string representing 'current', 'deposit' or 'investment' etc.).\n",
        "  \n",
        "  This means that\n",
        "there must be an `__init__` method and you will need to store the data within\n",
        "the object.\n",
        "3. Provide three **methods** for the `Account`; `deposit(amount)`,\n",
        "`withdraw(amount)` and `get_balance()`. The behaviour of these\n",
        "methods should be as expected, `deposit` will increase the balance, `withdraw` will\n",
        "decrease the balance and `get_balance()` returns the current balance.\n",
        "4. Define a simple test application to verify the behaviour of your `Account` class.\n",
        "It can be helpful to see how your class `Account` is expected to be used. For this\n",
        "reason a simple test application for the `Account` is given below:\n",
        "\n",
        "```\n",
        "acc1 = Account('123', 'John', 10.05, 'current')\n",
        "acc2 = Account('345', 'John', 23.55, 'savings')\n",
        "acc3 = Account('567', 'Phoebe', 12.45, 'investment')\n",
        "print(acc1)\n",
        "print(acc2)\n",
        "print(acc3)\n",
        "acc1.deposit(23.45)\n",
        "acc1.withdraw(12.33)\n",
        "print('balance:', acc1.get_balance())\n",
        "```\n",
        "The following output illustrates what the result of running this test application might look like:\n",
        "```\n",
        "Account[123] - John, current account = 10.05\n",
        "Account[345] - John, savings account = 23.55\n",
        "Account[567] - Phoebe, investment account = 12.45\n",
        "balance: 21.17\n",
        "```\n",
        "\n",
        "The output format (i.e. the object print result) does not need to be exactly as the output above. You just need to make sure all the information (name, account number, holder name, type and balance) is reported in the print statement in a readable way.\n",
        "\n"
      ],
      "metadata": {
        "id": "RWqu0cOTMnvV"
      }
    },
    {
      "cell_type": "code",
      "source": [
        "class Account:\n",
        "  def __init__(self, number, name, opening, type):\n",
        "    self.number= number\n",
        "    self.name= name\n",
        "    self.opening= opening\n",
        "    self.type= type\n",
        "\n",
        "  def deposit(self, amount):\n",
        "    self.opening += amount\n",
        "\n",
        "  def withdraw(self, amount):\n",
        "    if amount > self.opening:\n",
        "        print(f\"Not enough funds for the withdrawal. Your current account balance is: {self.opening}\")\n",
        "    else:\n",
        "        self.opening -= amount\n",
        "\n",
        "  def get_balance(self):\n",
        "    return self.opening\n",
        "\n",
        "  def all_info(self):\n",
        "    return f\"Account[{self.number}] - {self.name}, {self.type} account = {self.opening:.2f}\""
      ],
      "metadata": {
        "id": "zKlx0MlsQ5YM"
      },
      "execution_count": null,
      "outputs": []
    },
    {
      "cell_type": "code",
      "source": [
        "a1 = Account('0001', 'Francesco', 1000, 'investment')\n",
        "a2 = Account('0002', 'John', 23.55, 'savings')\n",
        "a3 = Account('0003', 'Phoebe', 12.45, 'investment')\n",
        "a1.deposit(10)\n",
        "a1.get_balance()\n"
      ],
      "metadata": {
        "id": "4HBuXPZmu6If",
        "outputId": "9504fb2e-c0dc-4ff7-b8b8-1fcd21e21597",
        "colab": {
          "base_uri": "https://localhost:8080/"
        }
      },
      "execution_count": null,
      "outputs": [
        {
          "output_type": "execute_result",
          "data": {
            "text/plain": [
              "1010"
            ]
          },
          "metadata": {},
          "execution_count": 23
        }
      ]
    },
    {
      "cell_type": "code",
      "source": [
        "a2.withdraw(25)"
      ],
      "metadata": {
        "id": "6sxIJraWyzNT",
        "outputId": "feb5a067-c06d-41c1-ff48-62a639afdd6f",
        "colab": {
          "base_uri": "https://localhost:8080/"
        }
      },
      "execution_count": null,
      "outputs": [
        {
          "output_type": "stream",
          "name": "stdout",
          "text": [
            "Not enough funds for the withdrawal. Your current account balance is: 23.55\n"
          ]
        }
      ]
    },
    {
      "cell_type": "code",
      "source": [
        "a2.deposit(56)"
      ],
      "metadata": {
        "id": "IHzviqtby8V1"
      },
      "execution_count": null,
      "outputs": []
    },
    {
      "cell_type": "code",
      "source": [
        "a2.withdraw(24)"
      ],
      "metadata": {
        "id": "b3I0tB1azGaY"
      },
      "execution_count": null,
      "outputs": []
    },
    {
      "cell_type": "code",
      "source": [
        "a2.get_balance()"
      ],
      "metadata": {
        "id": "ocLVnhKQzK4z",
        "outputId": "eea4024c-d27b-4564-a8ac-7a1de535e088",
        "colab": {
          "base_uri": "https://localhost:8080/"
        }
      },
      "execution_count": null,
      "outputs": [
        {
          "output_type": "execute_result",
          "data": {
            "text/plain": [
              "55.55"
            ]
          },
          "metadata": {},
          "execution_count": 27
        }
      ]
    },
    {
      "cell_type": "code",
      "source": [
        "a2.all_info()"
      ],
      "metadata": {
        "id": "qmTzFh7b6Jmx",
        "outputId": "a492d09e-de00-40e3-f89c-8c0a9fe5319e",
        "colab": {
          "base_uri": "https://localhost:8080/",
          "height": 36
        }
      },
      "execution_count": null,
      "outputs": [
        {
          "output_type": "execute_result",
          "data": {
            "text/plain": [
              "'Account[0002] - John, savings account = 55.55'"
            ],
            "application/vnd.google.colaboratory.intrinsic+json": {
              "type": "string"
            }
          },
          "metadata": {},
          "execution_count": 28
        }
      ]
    },
    {
      "cell_type": "markdown",
      "source": [
        "#### Part 2\n",
        "The aim of this part is to extend the `Account` class you have been developing\n",
        "from the last two chapters by providing a\n",
        "`CurrentAccount` **subclass**.\n",
        "The `CurrentAccount` subclass should extend the Account class by:\n",
        "* adding an overdraft limit\n",
        "* redefining the `withdraw()`\n",
        "method which shoud verify that the balance\n",
        "never goes below the overdraft limit. If it does then the `withdraw()` method\n",
        "should not reduce the balance instead it should print out a warning message\n"
      ],
      "metadata": {
        "id": "FN_fY8iNOvw6"
      }
    },
    {
      "cell_type": "code",
      "source": [
        "class CurrentAccount(Account):\n",
        "  def __init__(self, number, name, opening, type, overdraf):\n",
        "    super().__init__(number, name, opening, type)\n",
        "    self.overdraf = overdraf\n",
        "  def withdraw(self, amount):\n",
        "    if self.opening - amount < self.overdraf:\n",
        "      print(\"You cannot make this withdrawl\")\n",
        "    else:\n",
        "      super().withdraw(amount)\n",
        "  pass"
      ],
      "metadata": {
        "id": "SlifWdX2RBFa"
      },
      "execution_count": null,
      "outputs": []
    },
    {
      "cell_type": "code",
      "source": [
        "a4 = CurrentAccount('004', 'Riccardo', 24000, 'investment', 3000)"
      ],
      "metadata": {
        "id": "MVD1Eau-2dsz"
      },
      "execution_count": null,
      "outputs": []
    },
    {
      "cell_type": "code",
      "source": [
        "a4.all_info()"
      ],
      "metadata": {
        "id": "1SFVHAwv7il_",
        "outputId": "ee2b1c6c-e71e-443d-c73e-d2995e1714a0",
        "colab": {
          "base_uri": "https://localhost:8080/",
          "height": 36
        }
      },
      "execution_count": null,
      "outputs": [
        {
          "output_type": "execute_result",
          "data": {
            "text/plain": [
              "'Account[004] - Riccardo, investment account = 24000.00'"
            ],
            "application/vnd.google.colaboratory.intrinsic+json": {
              "type": "string"
            }
          },
          "metadata": {},
          "execution_count": 32
        }
      ]
    },
    {
      "cell_type": "code",
      "source": [
        "a4.withdraw(22000)"
      ],
      "metadata": {
        "id": "a-z4CvMI8B7J",
        "outputId": "b148b231-d61b-4514-933e-656797e63d04",
        "colab": {
          "base_uri": "https://localhost:8080/"
        }
      },
      "execution_count": null,
      "outputs": [
        {
          "output_type": "stream",
          "name": "stdout",
          "text": [
            "You cannot make this withdrawl\n"
          ]
        }
      ]
    },
    {
      "cell_type": "code",
      "source": [
        "a4.all_info()"
      ],
      "metadata": {
        "id": "b7GTRLs58RVv",
        "outputId": "b27f64c9-6da2-4f77-a546-f15e939ee0d5",
        "colab": {
          "base_uri": "https://localhost:8080/",
          "height": 36
        }
      },
      "execution_count": null,
      "outputs": [
        {
          "output_type": "execute_result",
          "data": {
            "text/plain": [
              "'Account[004] - Riccardo, investment account = 24000.00'"
            ],
            "application/vnd.google.colaboratory.intrinsic+json": {
              "type": "string"
            }
          },
          "metadata": {},
          "execution_count": 34
        }
      ]
    },
    {
      "cell_type": "code",
      "source": [
        "a4.withdraw(200)"
      ],
      "metadata": {
        "id": "NeNtlIxO8hVW"
      },
      "execution_count": null,
      "outputs": []
    },
    {
      "cell_type": "code",
      "source": [
        "a4.all_info()"
      ],
      "metadata": {
        "id": "T-cto02o8lMZ",
        "outputId": "ff615194-aba9-4fbf-e019-646b2310af57",
        "colab": {
          "base_uri": "https://localhost:8080/",
          "height": 36
        }
      },
      "execution_count": null,
      "outputs": [
        {
          "output_type": "execute_result",
          "data": {
            "text/plain": [
              "'Account[004] - Riccardo, investment account = 23800.00'"
            ],
            "application/vnd.google.colaboratory.intrinsic+json": {
              "type": "string"
            }
          },
          "metadata": {},
          "execution_count": 36
        }
      ]
    }
  ]
}